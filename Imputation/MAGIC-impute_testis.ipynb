{
 "cells": [
  {
   "cell_type": "code",
   "execution_count": 1,
   "metadata": {},
   "outputs": [],
   "source": [
    "import magic\n",
    "import scprep \n",
    "\n",
    "import numpy as np\n",
    "import pandas as pd\n",
    "import matplotlib\n",
    "import matplotlib.pyplot as plt\n",
    "\n",
    "# Matplotlib command for Jupyter notebooks only\n",
    "%matplotlib inline\n",
    "\n"
   ]
  },
  {
   "cell_type": "code",
   "execution_count": 2,
   "metadata": {},
   "outputs": [],
   "source": [
    "df1 = scprep.io.load_csv(\"~/OneDrive - UW/data for deconv/Data matrices (C)/Testis/matricesforsaver/h_infant_120_data_transposed.csv\", cell_names = True)\n",
    "\n",
    "\n"
   ]
  },
  {
   "cell_type": "markdown",
   "metadata": {},
   "source": [
    "\n",
    "follow here: https://nbviewer.org/github/KrishnaswamyLab/magic/blob/master/python/tutorial_notebooks/emt_tutorial.ipynb#data\n"
   ]
  },
  {
   "cell_type": "code",
   "execution_count": 3,
   "metadata": {},
   "outputs": [],
   "source": [
    "magic_op = magic.MAGIC()\n"
   ]
  },
  {
   "cell_type": "code",
   "execution_count": 4,
   "metadata": {},
   "outputs": [
    {
     "name": "stdout",
     "output_type": "stream",
     "text": [
      "Calculating MAGIC...\n",
      "  Running MAGIC on 1340 cells and 12726 genes.\n",
      "  Calculating graph and diffusion operator...\n",
      "    Calculating PCA...\n"
     ]
    },
    {
     "name": "stderr",
     "output_type": "stream",
     "text": [
      "/Users/bradhansen/.local/lib/python3.10/site-packages/magic/magic.py:425: UserWarning: Input matrix contains unexpressed genes. Please remove them prior to running MAGIC.\n",
      "  warnings.warn(\n"
     ]
    },
    {
     "name": "stdout",
     "output_type": "stream",
     "text": [
      "    Calculated PCA in 3.54 seconds.\n",
      "    Calculating KNN search...\n",
      "    Calculated KNN search in 0.29 seconds.\n",
      "    Calculating affinities...\n",
      "    Calculated affinities in 0.17 seconds.\n",
      "  Calculated graph and diffusion operator in 4.12 seconds.\n",
      "  Running MAGIC with `solver='exact'` on 12726-dimensional data may take a long time. Consider denoising specific genes with `genes=<list-like>` or using `solver='approximate'`.\n",
      "  Calculating imputation...\n",
      "  Calculated imputation in 1.72 seconds.\n",
      "Calculated MAGIC in 5.91 seconds.\n"
     ]
    }
   ],
   "source": [
    "df1_magic = magic_op.fit_transform(df1, genes='all_genes')\n"
   ]
  },
  {
   "cell_type": "code",
   "execution_count": 13,
   "metadata": {},
   "outputs": [
    {
     "name": "stdout",
     "output_type": "stream",
     "text": [
      "Calculating MAGIC...\n",
      "  Running MAGIC on 14862 cells and 15333 genes.\n",
      "  Calculating graph and diffusion operator...\n"
     ]
    },
    {
     "name": "stderr",
     "output_type": "stream",
     "text": [
      "/Users/bradhansen/.local/lib/python3.10/site-packages/magic/magic.py:425: UserWarning: Input matrix contains unexpressed genes. Please remove them prior to running MAGIC.\n",
      "  warnings.warn(\n"
     ]
    },
    {
     "name": "stdout",
     "output_type": "stream",
     "text": [
      "    Calculating PCA...\n",
      "    Calculated PCA in 31.75 seconds.\n",
      "    Calculating KNN search...\n",
      "    Calculated KNN search in 12.69 seconds.\n",
      "    Calculating affinities...\n",
      "    Calculated affinities in 12.60 seconds.\n",
      "  Calculated graph and diffusion operator in 60.16 seconds.\n",
      "  Running MAGIC with `solver='exact'` on 15333-dimensional data may take a long time. Consider denoising specific genes with `genes=<list-like>` or using `solver='approximate'`.\n",
      "  Calculating imputation...\n",
      "  Calculated imputation in 508.17 seconds.\n",
      "Calculated MAGIC in 569.44 seconds.\n"
     ]
    }
   ],
   "source": [
    "df2 = scprep.io.load_csv(\"~/OneDrive - UW/data for deconv/Data matrices (C)/Testis/matricesforsaver/h_infant_124_t.csv\", cell_names = True)\n",
    "\n",
    "magic_op = magic.MAGIC()\n",
    "\n",
    "df2_magic = magic_op.fit_transform(df2, genes='all_genes')\n"
   ]
  },
  {
   "cell_type": "code",
   "execution_count": 8,
   "metadata": {},
   "outputs": [
    {
     "name": "stdout",
     "output_type": "stream",
     "text": [
      "Calculating MAGIC...\n",
      "  Running MAGIC on 6490 cells and 14753 genes.\n",
      "  Calculating graph and diffusion operator...\n"
     ]
    },
    {
     "name": "stderr",
     "output_type": "stream",
     "text": [
      "/Users/bradhansen/.local/lib/python3.10/site-packages/magic/magic.py:425: UserWarning: Input matrix contains unexpressed genes. Please remove them prior to running MAGIC.\n",
      "  warnings.warn(\n"
     ]
    },
    {
     "name": "stdout",
     "output_type": "stream",
     "text": [
      "    Calculating PCA...\n",
      "    Calculated PCA in 12.19 seconds.\n",
      "    Calculating KNN search...\n",
      "    Calculated KNN search in 1.72 seconds.\n",
      "    Calculating affinities...\n",
      "    Calculated affinities in 1.65 seconds.\n",
      "  Calculated graph and diffusion operator in 16.14 seconds.\n",
      "  Running MAGIC with `solver='exact'` on 14753-dimensional data may take a long time. Consider denoising specific genes with `genes=<list-like>` or using `solver='approximate'`.\n",
      "  Calculating imputation...\n",
      "  Calculated imputation in 58.49 seconds.\n",
      "Calculated MAGIC in 74.91 seconds.\n"
     ]
    }
   ],
   "source": [
    "df3 = scprep.io.load_csv(\"~/OneDrive - UW/data for deconv/Data matrices (C)/Testis/matricesforsaver/h_adult_112_t.csv\", cell_names = True)\n",
    "\n",
    "magic_op = magic.MAGIC()\n",
    "\n",
    "df3_magic = magic_op.fit_transform(df3, genes='all_genes')\n"
   ]
  },
  {
   "cell_type": "code",
   "execution_count": 10,
   "metadata": {},
   "outputs": [
    {
     "name": "stdout",
     "output_type": "stream",
     "text": [
      "Calculating MAGIC...\n",
      "  Running MAGIC on 18686 cells and 14800 genes.\n",
      "  Calculating graph and diffusion operator...\n"
     ]
    },
    {
     "name": "stderr",
     "output_type": "stream",
     "text": [
      "/Users/bradhansen/.local/lib/python3.10/site-packages/magic/magic.py:425: UserWarning: Input matrix contains unexpressed genes. Please remove them prior to running MAGIC.\n",
      "  warnings.warn(\n"
     ]
    },
    {
     "name": "stdout",
     "output_type": "stream",
     "text": [
      "    Calculating PCA...\n",
      "    Calculated PCA in 39.14 seconds.\n",
      "    Calculating KNN search...\n",
      "    Calculated KNN search in 45.92 seconds.\n",
      "    Calculating affinities...\n",
      "    Calculated affinities in 45.71 seconds.\n",
      "  Calculated graph and diffusion operator in 133.57 seconds.\n",
      "  Running MAGIC with `solver='exact'` on 14800-dimensional data may take a long time. Consider denoising specific genes with `genes=<list-like>` or using `solver='approximate'`.\n",
      "  Calculating imputation...\n",
      "  Calculated imputation in 15.74 seconds.\n",
      "Calculated MAGIC in 150.35 seconds.\n"
     ]
    }
   ],
   "source": [
    "df4 = scprep.io.load_csv(\"~/OneDrive - UW/data for deconv/Data matrices (C)/Testis/matricesforsaver/m_neonate_d2_t.csv\", cell_names = True)\n",
    "\n",
    "magic_op = magic.MAGIC()\n",
    "\n",
    "df4_magic = magic_op.fit_transform(df4, genes='all_genes')\n"
   ]
  },
  {
   "cell_type": "code",
   "execution_count": 11,
   "metadata": {},
   "outputs": [
    {
     "name": "stdout",
     "output_type": "stream",
     "text": [
      "Calculating MAGIC...\n",
      "  Running MAGIC on 15601 cells and 14800 genes.\n",
      "  Calculating graph and diffusion operator...\n"
     ]
    },
    {
     "name": "stderr",
     "output_type": "stream",
     "text": [
      "/Users/bradhansen/.local/lib/python3.10/site-packages/magic/magic.py:425: UserWarning: Input matrix contains unexpressed genes. Please remove them prior to running MAGIC.\n",
      "  warnings.warn(\n"
     ]
    },
    {
     "name": "stdout",
     "output_type": "stream",
     "text": [
      "    Calculating PCA...\n",
      "    Calculated PCA in 32.22 seconds.\n",
      "    Calculating KNN search...\n",
      "    Calculated KNN search in 27.20 seconds.\n",
      "    Calculating affinities...\n",
      "    Calculated affinities in 27.38 seconds.\n",
      "  Calculated graph and diffusion operator in 89.66 seconds.\n",
      "  Running MAGIC with `solver='exact'` on 14800-dimensional data may take a long time. Consider denoising specific genes with `genes=<list-like>` or using `solver='approximate'`.\n",
      "  Calculating imputation...\n",
      "  Calculated imputation in 13.66 seconds.\n",
      "Calculated MAGIC in 104.26 seconds.\n"
     ]
    }
   ],
   "source": [
    "df5 = scprep.io.load_csv(\"~/OneDrive - UW/data for deconv/Data matrices (C)/Testis/matricesforsaver/m_neonate_d7_t.csv\", cell_names = True)\n",
    "\n",
    "magic_op = magic.MAGIC()\n",
    "\n",
    "df5_magic = magic_op.fit_transform(df5, genes='all_genes')\n"
   ]
  },
  {
   "cell_type": "code",
   "execution_count": 14,
   "metadata": {},
   "outputs": [],
   "source": [
    "df1_magic.to_csv('~/OneDrive - UW/data for deconv/hi120_MAGIC_matrix.csv', index=True)\n",
    "df2_magic.to_csv('~/OneDrive - UW/data for deconv/hi124_MAGIC_matrix.csv', index=True)\n",
    "df3_magic.to_csv('~/OneDrive - UW/data for deconv/ha112_MAGIC_matrix.csv', index=True)\n",
    "df4_magic.to_csv('~/OneDrive - UW/data for deconv/mn2_MAGIC_matrix.csv', index=True)\n",
    "df5_magic.to_csv('~/OneDrive - UW/data for deconv/mn7_MAGIC_matrix.csv', index=True)\n",
    "\n"
   ]
  },
  {
   "cell_type": "code",
   "execution_count": 8,
   "metadata": {},
   "outputs": [],
   "source": [
    "df2_magic.to_csv('~/OneDrive - UW/data for deconv/FINAL_df2_MAGIC_matrix.csv',  index=True)\n",
    "\n",
    "df3_magic.to_csv('~/OneDrive - UW/data for deconv/FINAL_df3_MAGIC_matrix.csv',  index=True)"
   ]
  }
 ],
 "metadata": {
  "kernelspec": {
   "display_name": "deconv",
   "language": "python",
   "name": "python3"
  },
  "language_info": {
   "codemirror_mode": {
    "name": "ipython",
    "version": 3
   },
   "file_extension": ".py",
   "mimetype": "text/x-python",
   "name": "python",
   "nbconvert_exporter": "python",
   "pygments_lexer": "ipython3",
   "version": "3.10.10"
  }
 },
 "nbformat": 4,
 "nbformat_minor": 2
}
