{
 "cells": [
  {
   "cell_type": "code",
   "execution_count": 1,
   "metadata": {},
   "outputs": [],
   "source": [
    "import magic\n",
    "import scprep \n",
    "\n",
    "import numpy as np\n",
    "import pandas as pd\n",
    "import matplotlib\n",
    "import matplotlib.pyplot as plt\n",
    "\n",
    "# Matplotlib command for Jupyter notebooks only\n",
    "%matplotlib inline\n",
    "\n"
   ]
  },
  {
   "cell_type": "code",
   "execution_count": 2,
   "metadata": {},
   "outputs": [],
   "source": [
    "df1 = scprep.io.load_csv(\"~/OneDrive - UW/data for deconv/Data matrices (C)/Gut/dataMAGIC/Tdf1_dsmatrix.csv\", cell_names = True)\n",
    "\n",
    "\n"
   ]
  },
  {
   "cell_type": "markdown",
   "metadata": {},
   "source": [
    "\n",
    "follow here: https://nbviewer.org/github/KrishnaswamyLab/magic/blob/master/python/tutorial_notebooks/emt_tutorial.ipynb#data\n"
   ]
  },
  {
   "cell_type": "code",
   "execution_count": 3,
   "metadata": {},
   "outputs": [],
   "source": [
    "magic_op = magic.MAGIC()\n"
   ]
  },
  {
   "cell_type": "code",
   "execution_count": 4,
   "metadata": {},
   "outputs": [
    {
     "name": "stdout",
     "output_type": "stream",
     "text": [
      "Calculating MAGIC...\n",
      "  Running MAGIC on 5538 cells and 21695 genes.\n",
      "  Calculating graph and diffusion operator...\n"
     ]
    },
    {
     "name": "stderr",
     "output_type": "stream",
     "text": [
      "/Users/bradhansen/.local/lib/python3.10/site-packages/magic/magic.py:425: UserWarning: Input matrix contains unexpressed genes. Please remove them prior to running MAGIC.\n",
      "  warnings.warn(\n"
     ]
    },
    {
     "name": "stdout",
     "output_type": "stream",
     "text": [
      "    Calculating PCA...\n",
      "    Calculated PCA in 15.68 seconds.\n",
      "    Calculating KNN search...\n",
      "    Calculated KNN search in 3.32 seconds.\n",
      "    Calculating affinities...\n",
      "    Calculated affinities in 3.25 seconds.\n",
      "  Calculated graph and diffusion operator in 23.05 seconds.\n",
      "  Running MAGIC with `solver='exact'` on 21695-dimensional data may take a long time. Consider denoising specific genes with `genes=<list-like>` or using `solver='approximate'`.\n",
      "  Calculating imputation...\n",
      "  Calculated imputation in 50.67 seconds.\n",
      "Calculated MAGIC in 74.02 seconds.\n"
     ]
    }
   ],
   "source": [
    "df1_magic = magic_op.fit_transform(df1, genes='all_genes')\n"
   ]
  },
  {
   "cell_type": "code",
   "execution_count": 5,
   "metadata": {},
   "outputs": [
    {
     "name": "stdout",
     "output_type": "stream",
     "text": [
      "Calculating MAGIC...\n",
      "  Running MAGIC on 6386 cells and 36601 genes.\n",
      "  Calculating graph and diffusion operator...\n"
     ]
    },
    {
     "name": "stderr",
     "output_type": "stream",
     "text": [
      "/Users/bradhansen/.local/lib/python3.10/site-packages/magic/magic.py:425: UserWarning: Input matrix contains unexpressed genes. Please remove them prior to running MAGIC.\n",
      "  warnings.warn(\n"
     ]
    },
    {
     "name": "stdout",
     "output_type": "stream",
     "text": [
      "    Calculating PCA...\n",
      "    Calculated PCA in 31.09 seconds.\n",
      "    Calculating KNN search...\n",
      "    Calculated KNN search in 3.60 seconds.\n",
      "    Calculating affinities...\n",
      "    Calculated affinities in 3.55 seconds.\n",
      "  Calculated graph and diffusion operator in 39.73 seconds.\n",
      "  Running MAGIC with `solver='exact'` on 36601-dimensional data may take a long time. Consider denoising specific genes with `genes=<list-like>` or using `solver='approximate'`.\n",
      "  Calculating imputation...\n",
      "  Calculated imputation in 102.08 seconds.\n",
      "Calculated MAGIC in 142.39 seconds.\n"
     ]
    }
   ],
   "source": [
    "df2 = scprep.io.load_csv(\"~/OneDrive - UW/data for deconv/Data matrices (C)/Gut/dataMAGIC/Tdf2_dsmatrix.csv\", cell_names = True)\n",
    "\n",
    "magic_op = magic.MAGIC()\n",
    "\n",
    "df2_magic = magic_op.fit_transform(df2, genes='all_genes')\n"
   ]
  },
  {
   "cell_type": "code",
   "execution_count": 6,
   "metadata": {},
   "outputs": [
    {
     "name": "stdout",
     "output_type": "stream",
     "text": [
      "Calculating MAGIC...\n",
      "  Running MAGIC on 6400 cells and 27906 genes.\n",
      "  Calculating graph and diffusion operator...\n"
     ]
    },
    {
     "name": "stderr",
     "output_type": "stream",
     "text": [
      "/Users/bradhansen/.local/lib/python3.10/site-packages/magic/magic.py:425: UserWarning: Input matrix contains unexpressed genes. Please remove them prior to running MAGIC.\n",
      "  warnings.warn(\n"
     ]
    },
    {
     "name": "stdout",
     "output_type": "stream",
     "text": [
      "    Calculating PCA...\n",
      "    Calculated PCA in 23.89 seconds.\n",
      "    Calculating KNN search...\n",
      "    Calculated KNN search in 4.61 seconds.\n",
      "    Calculating affinities...\n",
      "    Calculated affinities in 4.39 seconds.\n",
      "  Calculated graph and diffusion operator in 34.03 seconds.\n",
      "  Running MAGIC with `solver='exact'` on 27906-dimensional data may take a long time. Consider denoising specific genes with `genes=<list-like>` or using `solver='approximate'`.\n",
      "  Calculating imputation...\n",
      "  Calculated imputation in 84.53 seconds.\n",
      "Calculated MAGIC in 119.15 seconds.\n"
     ]
    }
   ],
   "source": [
    "df3 = scprep.io.load_csv(\"~/OneDrive - UW/data for deconv/Data matrices (C)/Gut/dataMAGIC/Tdf3_dsmatrix.csv\", cell_names = True)\n",
    "\n",
    "magic_op = magic.MAGIC()\n",
    "\n",
    "df3_magic = magic_op.fit_transform(df3, genes='all_genes')\n"
   ]
  },
  {
   "cell_type": "code",
   "execution_count": 7,
   "metadata": {},
   "outputs": [],
   "source": [
    "df1_magic.to_csv('~/OneDrive - UW/data for deconv/FINAL_df1_MAGIC_matrix.csv', index=True)\n",
    "\n",
    "\n",
    "\n",
    "\n"
   ]
  },
  {
   "cell_type": "code",
   "execution_count": 8,
   "metadata": {},
   "outputs": [],
   "source": [
    "df2_magic.to_csv('~/OneDrive - UW/data for deconv/FINAL_df2_MAGIC_matrix.csv',  index=True)\n",
    "\n",
    "df3_magic.to_csv('~/OneDrive - UW/data for deconv/FINAL_df3_MAGIC_matrix.csv',  index=True)"
   ]
  }
 ],
 "metadata": {
  "kernelspec": {
   "display_name": "deconv",
   "language": "python",
   "name": "python3"
  },
  "language_info": {
   "codemirror_mode": {
    "name": "ipython",
    "version": 3
   },
   "file_extension": ".py",
   "mimetype": "text/x-python",
   "name": "python",
   "nbconvert_exporter": "python",
   "pygments_lexer": "ipython3",
   "version": "3.10.10"
  }
 },
 "nbformat": 4,
 "nbformat_minor": 2
}
