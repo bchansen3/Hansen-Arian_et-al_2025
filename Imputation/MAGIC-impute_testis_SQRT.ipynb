{
 "cells": [
  {
   "cell_type": "code",
   "execution_count": 1,
   "metadata": {},
   "outputs": [],
   "source": [
    "import magic\n",
    "\n",
    "import scprep \n",
    "\n",
    "import numpy as np\n",
    "import pandas as pd\n",
    "import matplotlib\n",
    "import matplotlib.pyplot as plt\n",
    "\n",
    "# Matplotlib command for Jupyter notebooks only\n",
    "%matplotlib inline\n",
    "\n"
   ]
  },
  {
   "cell_type": "markdown",
   "metadata": {},
   "source": [
    "\n",
    "follow here: https://nbviewer.org/github/KrishnaswamyLab/magic/blob/master/python/tutorial_notebooks/emt_tutorial.ipynb#data\n"
   ]
  },
  {
   "cell_type": "code",
   "execution_count": 2,
   "metadata": {},
   "outputs": [
    {
     "name": "stdout",
     "output_type": "stream",
     "text": [
      "Calculating MAGIC...\n",
      "  Running MAGIC on 1340 cells and 12726 genes.\n",
      "  Calculating graph and diffusion operator...\n",
      "    Calculating PCA...\n"
     ]
    },
    {
     "name": "stderr",
     "output_type": "stream",
     "text": [
      "/Users/bradhansen/.local/lib/python3.12/site-packages/magic/magic.py:425: UserWarning: Input matrix contains unexpressed genes. Please remove them prior to running MAGIC.\n",
      "  warnings.warn(\n"
     ]
    },
    {
     "name": "stdout",
     "output_type": "stream",
     "text": [
      "    Calculated PCA in 1.96 seconds.\n",
      "    Calculating KNN search...\n",
      "    Calculated KNN search in 0.27 seconds.\n",
      "    Calculating affinities...\n",
      "    Calculated affinities in 0.20 seconds.\n",
      "  Calculated graph and diffusion operator in 2.47 seconds.\n",
      "  Running MAGIC with `solver='exact'` on 12726-dimensional data may take a long time. Consider denoising specific genes with `genes=<list-like>` or using `solver='approximate'`.\n",
      "  Calculating imputation...\n",
      "  Calculated imputation in 0.93 seconds.\n",
      "Calculated MAGIC in 3.46 seconds.\n"
     ]
    }
   ],
   "source": [
    "df1 = scprep.io.load_csv(\"~/OneDrive - UW/data for deconv/Data matrices (C)/Testis/saver/matricesforsaver/h_infant_120_data_transposed.csv\", cell_names = True)\n",
    "\n",
    "df1 = scprep.transform.sqrt(df1)\n",
    "magic_op = magic.MAGIC()\n",
    "df1_magic = magic_op.fit_transform(df1, genes='all_genes')\n",
    "df1_magic = np.square(df1_magic)"
   ]
  },
  {
   "cell_type": "code",
   "execution_count": 3,
   "metadata": {},
   "outputs": [
    {
     "name": "stdout",
     "output_type": "stream",
     "text": [
      "Calculating MAGIC...\n",
      "  Running MAGIC on 14862 cells and 15333 genes.\n",
      "  Calculating graph and diffusion operator...\n"
     ]
    },
    {
     "name": "stderr",
     "output_type": "stream",
     "text": [
      "/Users/bradhansen/.local/lib/python3.12/site-packages/magic/magic.py:425: UserWarning: Input matrix contains unexpressed genes. Please remove them prior to running MAGIC.\n",
      "  warnings.warn(\n"
     ]
    },
    {
     "name": "stdout",
     "output_type": "stream",
     "text": [
      "    Calculating PCA...\n",
      "    Calculated PCA in 24.43 seconds.\n",
      "    Calculating KNN search...\n",
      "    Calculated KNN search in 17.02 seconds.\n",
      "    Calculating affinities...\n",
      "    Calculated affinities in 18.03 seconds.\n",
      "  Calculated graph and diffusion operator in 60.18 seconds.\n",
      "  Running MAGIC with `solver='exact'` on 15333-dimensional data may take a long time. Consider denoising specific genes with `genes=<list-like>` or using `solver='approximate'`.\n",
      "  Calculating imputation...\n",
      "  Calculated imputation in 308.34 seconds.\n",
      "Calculated MAGIC in 368.92 seconds.\n"
     ]
    }
   ],
   "source": [
    "df2 = scprep.io.load_csv(\"~/OneDrive - UW/data for deconv/Data matrices (C)/Testis/saver/matricesforsaver/h_infant_124_t.csv\", cell_names = True)\n",
    "\n",
    "\n",
    "\n",
    "df2 = scprep.transform.sqrt(df2)\n",
    "magic_op = magic.MAGIC()\n",
    "df2_magic = magic_op.fit_transform(df2, genes='all_genes')\n",
    "df2_magic = np.square(df2_magic)"
   ]
  },
  {
   "cell_type": "code",
   "execution_count": 4,
   "metadata": {},
   "outputs": [
    {
     "name": "stdout",
     "output_type": "stream",
     "text": [
      "Calculating MAGIC...\n",
      "  Running MAGIC on 6490 cells and 14753 genes.\n",
      "  Calculating graph and diffusion operator...\n",
      "    Calculating PCA...\n"
     ]
    },
    {
     "name": "stderr",
     "output_type": "stream",
     "text": [
      "/Users/bradhansen/.local/lib/python3.12/site-packages/magic/magic.py:425: UserWarning: Input matrix contains unexpressed genes. Please remove them prior to running MAGIC.\n",
      "  warnings.warn(\n"
     ]
    },
    {
     "name": "stdout",
     "output_type": "stream",
     "text": [
      "    Calculated PCA in 10.56 seconds.\n",
      "    Calculating KNN search...\n",
      "    Calculated KNN search in 1.32 seconds.\n",
      "    Calculating affinities...\n",
      "    Calculated affinities in 1.24 seconds.\n",
      "  Calculated graph and diffusion operator in 13.31 seconds.\n",
      "  Running MAGIC with `solver='exact'` on 14753-dimensional data may take a long time. Consider denoising specific genes with `genes=<list-like>` or using `solver='approximate'`.\n",
      "  Calculating imputation...\n",
      "  Calculated imputation in 36.11 seconds.\n",
      "Calculated MAGIC in 49.58 seconds.\n"
     ]
    }
   ],
   "source": [
    "df3 = scprep.io.load_csv(\"~/OneDrive - UW/data for deconv/Data matrices (C)/Testis/saver/matricesforsaver/h_adult_112_t.csv\", cell_names = True)\n",
    "\n",
    "\n",
    "df3 = scprep.transform.sqrt(df3)\n",
    "magic_op = magic.MAGIC()\n",
    "df3_magic = magic_op.fit_transform(df3, genes='all_genes')\n",
    "df3_magic = np.square(df3_magic)"
   ]
  },
  {
   "cell_type": "code",
   "execution_count": 5,
   "metadata": {},
   "outputs": [
    {
     "name": "stdout",
     "output_type": "stream",
     "text": [
      "Calculating MAGIC...\n",
      "  Running MAGIC on 18686 cells and 14800 genes.\n",
      "  Calculating graph and diffusion operator...\n"
     ]
    },
    {
     "name": "stderr",
     "output_type": "stream",
     "text": [
      "/Users/bradhansen/.local/lib/python3.12/site-packages/magic/magic.py:425: UserWarning: Input matrix contains unexpressed genes. Please remove them prior to running MAGIC.\n",
      "  warnings.warn(\n"
     ]
    },
    {
     "name": "stdout",
     "output_type": "stream",
     "text": [
      "    Calculating PCA...\n",
      "    Calculated PCA in 28.12 seconds.\n",
      "    Calculating KNN search...\n",
      "    Calculated KNN search in 32.54 seconds.\n",
      "    Calculating affinities...\n",
      "    Calculated affinities in 32.10 seconds.\n",
      "  Calculated graph and diffusion operator in 93.54 seconds.\n",
      "  Running MAGIC with `solver='exact'` on 14800-dimensional data may take a long time. Consider denoising specific genes with `genes=<list-like>` or using `solver='approximate'`.\n",
      "  Calculating imputation...\n",
      "  Calculated imputation in 12.22 seconds.\n",
      "Calculated MAGIC in 106.20 seconds.\n"
     ]
    }
   ],
   "source": [
    "df4 = scprep.io.load_csv(\"~/OneDrive - UW/data for deconv/Data matrices (C)/Testis/saver/matricesforsaver/m_neonate_d2_t.csv\", cell_names = True)\n",
    "\n",
    "\n",
    "df4 = scprep.transform.sqrt(df4)\n",
    "\n",
    "magic_op = magic.MAGIC()\n",
    "df4_magic = magic_op.fit_transform(df4, genes='all_genes')\n",
    "df4_magic = np.square(df4_magic)"
   ]
  },
  {
   "cell_type": "code",
   "execution_count": 6,
   "metadata": {},
   "outputs": [
    {
     "name": "stdout",
     "output_type": "stream",
     "text": [
      "Calculating MAGIC...\n",
      "  Running MAGIC on 15601 cells and 14800 genes.\n",
      "  Calculating graph and diffusion operator...\n"
     ]
    },
    {
     "name": "stderr",
     "output_type": "stream",
     "text": [
      "/Users/bradhansen/.local/lib/python3.12/site-packages/magic/magic.py:425: UserWarning: Input matrix contains unexpressed genes. Please remove them prior to running MAGIC.\n",
      "  warnings.warn(\n"
     ]
    },
    {
     "name": "stdout",
     "output_type": "stream",
     "text": [
      "    Calculating PCA...\n",
      "    Calculated PCA in 23.57 seconds.\n",
      "    Calculating KNN search...\n",
      "    Calculated KNN search in 17.30 seconds.\n",
      "    Calculating affinities...\n",
      "    Calculated affinities in 16.90 seconds.\n",
      "  Calculated graph and diffusion operator in 58.36 seconds.\n",
      "  Running MAGIC with `solver='exact'` on 14800-dimensional data may take a long time. Consider denoising specific genes with `genes=<list-like>` or using `solver='approximate'`.\n",
      "  Calculating imputation...\n",
      "  Calculated imputation in 9.55 seconds.\n",
      "Calculated MAGIC in 68.31 seconds.\n"
     ]
    }
   ],
   "source": [
    "df5 = scprep.io.load_csv(\"~/OneDrive - UW/data for deconv/Data matrices (C)/Testis/saver/matricesforsaver/m_neonate_d7_t.csv\", cell_names = True)\n",
    "\n",
    "\n",
    "df5 = scprep.transform.sqrt(df5)\n",
    "magic_op = magic.MAGIC()\n",
    "df5_magic = magic_op.fit_transform(df5, genes='all_genes')\n",
    "df5_magic = np.square(df5_magic)"
   ]
  },
  {
   "cell_type": "code",
   "execution_count": 9,
   "metadata": {},
   "outputs": [],
   "source": [
    "df1_magic.to_csv('~/OneDrive - UW/data for deconv/hi120_MAGIC_matrix_SQRT.csv.gz', index=True, compression='gzip')\n",
    "df2_magic.to_csv('~/OneDrive - UW/data for deconv/hi124_MAGIC_matrix_SQRT.csv.gz', index=True, compression='gzip')\n",
    "df3_magic.to_csv('~/OneDrive - UW/data for deconv/ha112_MAGIC_matrix_SQRT.csv.gz', index=True, compression='gzip')\n",
    "df4_magic.to_csv('~/OneDrive - UW/data for deconv//mn2_MAGIC_matrix_SQRT.csv.gz', index=True, compression='gzip')\n",
    "df5_magic.to_csv('~/OneDrive - UW/data for deconv/mn7_MAGIC_matrix_SQRT.csv.gz', index=True, compression='gzip')\n",
    "\n"
   ]
  }
 ],
 "metadata": {
  "kernelspec": {
   "display_name": "base",
   "language": "python",
   "name": "python3"
  },
  "language_info": {
   "codemirror_mode": {
    "name": "ipython",
    "version": 3
   },
   "file_extension": ".py",
   "mimetype": "text/x-python",
   "name": "python",
   "nbconvert_exporter": "python",
   "pygments_lexer": "ipython3",
   "version": "3.12.7"
  }
 },
 "nbformat": 4,
 "nbformat_minor": 2
}
