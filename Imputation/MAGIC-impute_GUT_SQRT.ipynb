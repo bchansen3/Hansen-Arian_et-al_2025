{
 "cells": [
  {
   "cell_type": "code",
   "execution_count": 10,
   "metadata": {},
   "outputs": [],
   "source": [
    "import magic\n",
    "import scprep \n",
    "\n",
    "import numpy as np\n",
    "import pandas as pd\n",
    "import matplotlib\n",
    "import matplotlib.pyplot as plt\n",
    "\n",
    "# Matplotlib command for Jupyter notebooks only\n",
    "%matplotlib inline\n",
    "\n"
   ]
  },
  {
   "cell_type": "code",
   "execution_count": 11,
   "metadata": {},
   "outputs": [],
   "source": [
    "\n",
    "\n",
    "df1 = scprep.io.load_csv(\"~/OneDrive - UW/data for deconv/Data matrices (C)/Gut/dataMAGIC/Tdf1_dsmatrix.csv\", cell_names = True)\n",
    "\n",
    "\n"
   ]
  },
  {
   "cell_type": "markdown",
   "metadata": {},
   "source": [
    "\n",
    "follow here: https://nbviewer.org/github/KrishnaswamyLab/magic/blob/master/python/tutorial_notebooks/emt_tutorial.ipynb#data\n"
   ]
  },
  {
   "cell_type": "code",
   "execution_count": 12,
   "metadata": {},
   "outputs": [
    {
     "name": "stdout",
     "output_type": "stream",
     "text": [
      "Calculating MAGIC...\n",
      "  Running MAGIC on 5538 cells and 21695 genes.\n",
      "  Calculating graph and diffusion operator...\n"
     ]
    },
    {
     "name": "stderr",
     "output_type": "stream",
     "text": [
      "/Users/bradhansen/.local/lib/python3.12/site-packages/magic/magic.py:425: UserWarning: Input matrix contains unexpressed genes. Please remove them prior to running MAGIC.\n",
      "  warnings.warn(\n"
     ]
    },
    {
     "name": "stdout",
     "output_type": "stream",
     "text": [
      "    Calculating PCA...\n",
      "    Calculated PCA in 8.94 seconds.\n",
      "    Calculating KNN search...\n",
      "    Calculated KNN search in 1.88 seconds.\n",
      "    Calculating affinities...\n",
      "    Calculated affinities in 1.74 seconds.\n",
      "  Calculated graph and diffusion operator in 12.87 seconds.\n",
      "  Running MAGIC with `solver='exact'` on 21695-dimensional data may take a long time. Consider denoising specific genes with `genes=<list-like>` or using `solver='approximate'`.\n",
      "  Calculating imputation...\n",
      "  Calculated imputation in 12.45 seconds.\n",
      "Calculated MAGIC in 25.49 seconds.\n"
     ]
    }
   ],
   "source": [
    "df1 = scprep.transform.sqrt(df1)\n",
    "magic_op = magic.MAGIC()\n",
    "df1_magic = magic_op.fit_transform(df1, genes='all_genes')\n",
    "df1_magic = np.square(df1_magic)\n"
   ]
  },
  {
   "cell_type": "code",
   "execution_count": 13,
   "metadata": {},
   "outputs": [
    {
     "name": "stdout",
     "output_type": "stream",
     "text": [
      "Calculating MAGIC...\n",
      "  Running MAGIC on 6386 cells and 36601 genes.\n",
      "  Calculating graph and diffusion operator...\n"
     ]
    },
    {
     "name": "stderr",
     "output_type": "stream",
     "text": [
      "/Users/bradhansen/.local/lib/python3.12/site-packages/magic/magic.py:425: UserWarning: Input matrix contains unexpressed genes. Please remove them prior to running MAGIC.\n",
      "  warnings.warn(\n"
     ]
    },
    {
     "name": "stdout",
     "output_type": "stream",
     "text": [
      "    Calculating PCA...\n",
      "    Calculated PCA in 15.81 seconds.\n",
      "    Calculating KNN search...\n",
      "    Calculated KNN search in 2.14 seconds.\n",
      "    Calculating affinities...\n",
      "    Calculated affinities in 2.06 seconds.\n",
      "  Calculated graph and diffusion operator in 20.43 seconds.\n",
      "  Running MAGIC with `solver='exact'` on 36601-dimensional data may take a long time. Consider denoising specific genes with `genes=<list-like>` or using `solver='approximate'`.\n",
      "  Calculating imputation...\n",
      "  Calculated imputation in 25.50 seconds.\n",
      "Calculated MAGIC in 46.20 seconds.\n"
     ]
    }
   ],
   "source": [
    "df2 = scprep.io.load_csv(\"~/OneDrive - UW/data for deconv/Data matrices (C)/Gut/dataMAGIC/Tdf2_dsmatrix.csv\", cell_names = True)\n",
    "\n",
    "df2 = scprep.transform.sqrt(df2)\n",
    "\n",
    "magic_op = magic.MAGIC()\n",
    "\n",
    "df2_magic = magic_op.fit_transform(df2, genes='all_genes')\n",
    "df2_magic = np.square(df2_magic)"
   ]
  },
  {
   "cell_type": "code",
   "execution_count": 14,
   "metadata": {},
   "outputs": [
    {
     "name": "stdout",
     "output_type": "stream",
     "text": [
      "Calculating MAGIC...\n",
      "  Running MAGIC on 6400 cells and 27906 genes.\n",
      "  Calculating graph and diffusion operator...\n"
     ]
    },
    {
     "name": "stderr",
     "output_type": "stream",
     "text": [
      "/Users/bradhansen/.local/lib/python3.12/site-packages/magic/magic.py:425: UserWarning: Input matrix contains unexpressed genes. Please remove them prior to running MAGIC.\n",
      "  warnings.warn(\n"
     ]
    },
    {
     "name": "stdout",
     "output_type": "stream",
     "text": [
      "    Calculating PCA...\n",
      "    Calculated PCA in 12.40 seconds.\n",
      "    Calculating KNN search...\n",
      "    Calculated KNN search in 2.51 seconds.\n",
      "    Calculating affinities...\n",
      "    Calculated affinities in 2.39 seconds.\n",
      "  Calculated graph and diffusion operator in 17.59 seconds.\n",
      "  Running MAGIC with `solver='exact'` on 27906-dimensional data may take a long time. Consider denoising specific genes with `genes=<list-like>` or using `solver='approximate'`.\n",
      "  Calculating imputation...\n",
      "  Calculated imputation in 25.52 seconds.\n",
      "Calculated MAGIC in 43.31 seconds.\n"
     ]
    }
   ],
   "source": [
    "df3 = scprep.io.load_csv(\"~/OneDrive - UW/data for deconv/Data matrices (C)/Gut/dataMAGIC/Tdf3_dsmatrix.csv\", cell_names = True)\n",
    "\n",
    "df3 = scprep.transform.sqrt(df3)\n",
    "\n",
    "magic_op = magic.MAGIC()\n",
    "\n",
    "df3_magic = magic_op.fit_transform(df3, genes='all_genes')\n",
    "df3_magic = np.square(df3_magic)"
   ]
  },
  {
   "cell_type": "code",
   "execution_count": 15,
   "metadata": {},
   "outputs": [],
   "source": [
    "df1_magic.to_csv('~/OneDrive - UW/data for deconv/FINAL_df1_MAGIC_matrix.csv', index=True)\n",
    "\n",
    "df2_magic.to_csv('~/OneDrive - UW/data for deconv/FINAL_df2_MAGIC_matrix.csv',  index=True)\n",
    "\n",
    "df3_magic.to_csv('~/OneDrive - UW/data for deconv/FINAL_df3_MAGIC_matrix.csv',  index=True)"
   ]
  }
 ],
 "metadata": {
  "kernelspec": {
   "display_name": "base",
   "language": "python",
   "name": "python3"
  },
  "language_info": {
   "codemirror_mode": {
    "name": "ipython",
    "version": 3
   },
   "file_extension": ".py",
   "mimetype": "text/x-python",
   "name": "python",
   "nbconvert_exporter": "python",
   "pygments_lexer": "ipython3",
   "version": "3.12.7"
  }
 },
 "nbformat": 4,
 "nbformat_minor": 2
}
